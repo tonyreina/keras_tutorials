{
 "cells": [
  {
   "cell_type": "markdown",
   "metadata": {},
   "source": [
    "# Keras version of Alexnet\n",
    "\n",
    "We'll train Alexnet with the MNIST dataset.\n",
    "\n",
    "[AlexNet](https://papers.nips.cc/paper/4824-imagenet-classification-with-deep-convolutional-neural-networks.pdf) was first introduced in 2012 and ushered in the recent resurgence of deep neural networks.  It won the 2012 ImageNet competition by a score that was significantly better than any previous model. Two year later, every state-of-the-art computer imaging model was using neural networks.\n",
    "\n",
    "The 3 tricks of AlexNet:\n",
    "1. \"Deep\" : Up until then it was difficult to train neural networks with many hidden layers due to the vanishing gradient and slow computer processors. AlexNet made use of GPU processors to train the network faster.\n",
    "2. ReLU : AlexNet introduced the rectified linear unit (ReLU) activation function. This virtually eliminated the vanishing gradient problem.\n",
    "3. Dropout : AlexNet introduced the concept of dropout. Neurons were randomly removed from the network during a batch. This helped to prevent overfitting on the training dataset."
   ]
  },
  {
   "cell_type": "markdown",
   "metadata": {},
   "source": [
    "[![Open In Colab](https://colab.research.google.com/assets/colab-badge.svg)](https://colab.research.google.com/github/tonyreina/keras_tutorials/blob/master/lesson_3_alexnet.ipynb)"
   ]
  },
  {
   "cell_type": "code",
   "execution_count": 9,
   "metadata": {},
   "outputs": [],
   "source": [
    "from tensorflow     import keras\n",
    "from tensorflow.keras.datasets import mnist\n",
    "from tensorflow.keras.layers   import Dense, Dropout, Flatten\n",
    "from tensorflow.keras.layers   import Input, Conv2D, MaxPooling2D\n",
    "from tensorflow.keras.models   import Model"
   ]
  },
  {
   "cell_type": "markdown",
   "metadata": {},
   "source": [
    "# Common terms\n",
    "\n",
    "+ SGD : Stochastic gradient descent. The usual way to train a neural network. The \"weights\" or \"parameters\" of the network are updated bit by bit in order to minimize some global function (\"cost\" or \"loss\")\n",
    "+ \"Cost\" or \" Loss\" - A function we wish the network to minimize. This is typically some distance measure of how far the network's prediction is from the actual value (i.e. the error).\n",
    "+ Epoch = A single pass through the entire training set. SGD involves mulitple passes through the training dataset. \n",
    "+ Batch = How many samples of the training dataset are used to create an update to the weights of the network during SGD. If the batch is 1, then the weights are updated after every forward pass (truly stochastic descent). If the batch is the size of the dataset then the weights are updated based on the sum of the gradients for the entire training set (non-stochastic or just gradient descent). We usually use batch or mini-batch gradient descent."
   ]
  },
  {
   "cell_type": "code",
   "execution_count": 10,
   "metadata": {},
   "outputs": [],
   "source": [
    "batch_size  = 128\n",
    "num_classes = 10\n",
    "epochs      = 4"
   ]
  },
  {
   "cell_type": "markdown",
   "metadata": {},
   "source": [
    "# MNIST\n",
    "\n",
    "This is the standard dataset of handwritten digit classification. The images are 28 pixels by 28 pixels. There is only 1 color channel (grayscale). For color images there are typically 3 color channels (red, blue, green).\n",
    "\n",
    "Tensor size = NHWC = Batch size x 28 x 28 x 1"
   ]
  },
  {
   "cell_type": "code",
   "execution_count": 11,
   "metadata": {},
   "outputs": [],
   "source": [
    "# input image dimensions\n",
    "img_rows, img_cols, n_channels = 28, 28, 1\n",
    "input_shape = (img_rows, img_cols, n_channels)"
   ]
  },
  {
   "cell_type": "code",
   "execution_count": 12,
   "metadata": {},
   "outputs": [],
   "source": [
    "(x_train, y_train), (x_test, y_test) = mnist.load_data()\n",
    "x_train = x_train.reshape(x_train.shape[0], img_rows, img_cols, n_channels)\n",
    "x_test = x_test.reshape(x_test.shape[0], img_rows, img_cols, n_channels)"
   ]
  },
  {
   "cell_type": "code",
   "execution_count": 13,
   "metadata": {},
   "outputs": [
    {
     "name": "stdout",
     "output_type": "stream",
     "text": [
      "x_train shape: (60000, 28, 28, 1)\n",
      "60000 train samples\n",
      "10000 test samples\n"
     ]
    }
   ],
   "source": [
    "x_train = x_train.astype('float32')\n",
    "x_test = x_test.astype('float32')\n",
    "x_train /= x_train.max()   # Scale everything between 0 and 1\n",
    "x_test /= x_test.max()     # Scale everything between 0 and 1\n",
    "\n",
    "print('x_train shape:', x_train.shape)\n",
    "print(x_train.shape[0], 'train samples')\n",
    "print(x_test.shape[0], 'test samples')"
   ]
  },
  {
   "cell_type": "markdown",
   "metadata": {},
   "source": [
    "# One Hot Encoding\n",
    "\n",
    "For multi-class problems we always one-hot encode the output variable. There are 10 classes (numbers 0-9). The label for 7 would be 0000001000. The label for 0 would be 1000000000. The label for 3 would be 0010000000. This allows us to use the cost function of [multi-class entropy](https://en.wikipedia.org/wiki/Cross_entropy) which will maximize the margin between classes."
   ]
  },
  {
   "cell_type": "code",
   "execution_count": 14,
   "metadata": {},
   "outputs": [],
   "source": [
    "# convert class vectors to binary class matrices\n",
    "y_train = keras.utils.to_categorical(y_train, num_classes)\n",
    "y_test = keras.utils.to_categorical(y_test, num_classes)"
   ]
  },
  {
   "cell_type": "markdown",
   "metadata": {},
   "source": [
    "# AlexNet model\n",
    "\n",
    "![AlexNet diagram](https://www.researchgate.net/profile/Huafeng_Wang4/publication/300412100/figure/fig1/AS:388811231121412@1469711229450/Figure-2-AlexNet-Architecture-To-be-noted-Figure-2-is-copied-2.ppm)\n",
    "\n",
    "Above is AlexNet. The MNIST images are only 28 x 28 so if we implemented this on a 28 x 28 image, then the max pooling and cropping would quickly reduce our images to a single pixel. Instead, we'll create an AlexNet-like CNN."
   ]
  },
  {
   "cell_type": "code",
   "execution_count": 15,
   "metadata": {},
   "outputs": [],
   "source": [
    "inputs = Input(input_shape, name='Images')\n",
    "\n",
    "conv1 = Conv2D(filters=96, kernel_size=(5, 5), strides=(2,2), activation='relu', padding='valid',\n",
    "              kernel_initializer='glorot_uniform')(inputs)\n",
    "\n",
    "conv2 = Conv2D(filters=256, kernel_size=(3,3), activation='relu', padding='same')(conv1)\n",
    "\n",
    "max2 = MaxPooling2D(pool_size=(2,2))(conv2)\n",
    "\n",
    "conv3 = Conv2D(filters=384, kernel_size=(3,3), activation='relu')(max2)\n",
    "\n",
    "conv4 = Conv2D(name='ernie', filters=384, kernel_size=(3,3), activation='relu', padding='same')(conv3)\n",
    "\n",
    "conv5 = Conv2D(name='cookie', filters=256, kernel_size=(3,3), activation='relu')(conv4)\n",
    "\n",
    "layer6 = Flatten()(conv5)\n",
    "\n",
    "layer7 = Dense(4096, activation='relu')(layer6)\n",
    "\n",
    "layer8 = Dropout(0.5)(layer7)\n",
    "\n",
    "layer9 = Dense(4096, activation='relu')(layer8)\n",
    "\n",
    "layer10 = Dense(num_classes, activation='softmax', name='bert')(layer9)\n",
    "\n",
    "model = Model(inputs=[inputs], outputs=[layer10])"
   ]
  },
  {
   "cell_type": "markdown",
   "metadata": {},
   "source": [
    "# TensorBoard\n",
    "\n",
    "TensorBoard is an essential tool to monitor our model and the training.  Keras/TF will write a log after every epoch of the model and the current training metrics. All you need to do is type at the command line:\n",
    "\n",
    "tensorboard --logdir='./logs'\n",
    "\n",
    "And then open the browser to http://localhost:6006\n"
   ]
  },
  {
   "cell_type": "code",
   "execution_count": 19,
   "metadata": {},
   "outputs": [],
   "source": [
    "tb_log = keras.callbacks.TensorBoard(log_dir='./logs', # This is where the log files will go\n",
    "                                     histogram_freq=10, \n",
    "                                     write_graph=True, \n",
    "                                     write_images=True)\n"
   ]
  },
  {
   "cell_type": "code",
   "execution_count": 29,
   "metadata": {},
   "outputs": [],
   "source": [
    "model.compile(loss=keras.losses.categorical_crossentropy,\n",
    "              optimizer=keras.optimizers.Adam(learning_rate=0.001, beta_1=0.9, \n",
    "                                                         beta_2=0.999, epsilon=1e-08, decay=0.01),\n",
    "              metrics=['accuracy', keras.metrics.AUC(), keras.metrics.Precision(), keras.metrics.Recall()])"
   ]
  },
  {
   "cell_type": "code",
   "execution_count": 30,
   "metadata": {},
   "outputs": [
    {
     "name": "stdout",
     "output_type": "stream",
     "text": [
      "Model: \"model\"\n",
      "_________________________________________________________________\n",
      "Layer (type)                 Output Shape              Param #   \n",
      "=================================================================\n",
      "Images (InputLayer)          [(None, 28, 28, 1)]       0         \n",
      "_________________________________________________________________\n",
      "conv2d (Conv2D)              (None, 12, 12, 96)        2496      \n",
      "_________________________________________________________________\n",
      "conv2d_1 (Conv2D)            (None, 12, 12, 256)       221440    \n",
      "_________________________________________________________________\n",
      "max_pooling2d (MaxPooling2D) (None, 6, 6, 256)         0         \n",
      "_________________________________________________________________\n",
      "conv2d_2 (Conv2D)            (None, 4, 4, 384)         885120    \n",
      "_________________________________________________________________\n",
      "ernie (Conv2D)               (None, 4, 4, 384)         1327488   \n",
      "_________________________________________________________________\n",
      "cookie (Conv2D)              (None, 2, 2, 256)         884992    \n",
      "_________________________________________________________________\n",
      "flatten (Flatten)            (None, 1024)              0         \n",
      "_________________________________________________________________\n",
      "dense (Dense)                (None, 4096)              4198400   \n",
      "_________________________________________________________________\n",
      "dropout (Dropout)            (None, 4096)              0         \n",
      "_________________________________________________________________\n",
      "dense_1 (Dense)              (None, 4096)              16781312  \n",
      "_________________________________________________________________\n",
      "bert (Dense)                 (None, 10)                40970     \n",
      "=================================================================\n",
      "Total params: 24,342,218\n",
      "Trainable params: 24,342,218\n",
      "Non-trainable params: 0\n",
      "_________________________________________________________________\n"
     ]
    }
   ],
   "source": [
    "model.summary()"
   ]
  },
  {
   "cell_type": "code",
   "execution_count": 40,
   "metadata": {},
   "outputs": [
    {
     "name": "stdout",
     "output_type": "stream",
     "text": [
      "The tensorboard extension is already loaded. To reload it, use:\n",
      "  %reload_ext tensorboard\n"
     ]
    },
    {
     "data": {
      "text/html": [
       "\n",
       "      <iframe id=\"tensorboard-frame-c516bc99f12bb0c4\" width=\"100%\" height=\"800\" frameborder=\"0\">\n",
       "      </iframe>\n",
       "      <script>\n",
       "        (function() {\n",
       "          const frame = document.getElementById(\"tensorboard-frame-c516bc99f12bb0c4\");\n",
       "          const url = new URL(\"/\", window.location);\n",
       "          const port = 6006;\n",
       "          if (port) {\n",
       "            url.port = port;\n",
       "          }\n",
       "          frame.src = url;\n",
       "        })();\n",
       "      </script>\n",
       "    "
      ],
      "text/plain": [
       "<IPython.core.display.HTML object>"
      ]
     },
     "metadata": {},
     "output_type": "display_data"
    }
   ],
   "source": [
    "%load_ext tensorboard\n",
    "%tensorboard --logdir logs"
   ]
  },
  {
   "cell_type": "code",
   "execution_count": 41,
   "metadata": {},
   "outputs": [
    {
     "name": "stdout",
     "output_type": "stream",
     "text": [
      "Epoch 1/4\n",
      "469/469 [==============================] - 10s 21ms/step - loss: 6.7201e-04 - accuracy: 0.9999 - auc: 1.0000 - precision: 0.9999 - recall: 0.9999 - val_loss: 0.0290 - val_accuracy: 0.9939 - val_auc: 0.9989 - val_precision: 0.9942 - val_recall: 0.9939\n",
      "Epoch 2/4\n",
      "469/469 [==============================] - 10s 20ms/step - loss: 4.8308e-04 - accuracy: 0.9999 - auc: 1.0000 - precision: 0.9999 - recall: 0.9999 - val_loss: 0.0308 - val_accuracy: 0.9941 - val_auc: 0.9987 - val_precision: 0.9943 - val_recall: 0.9940\n",
      "Epoch 3/4\n",
      "469/469 [==============================] - 10s 20ms/step - loss: 2.7120e-04 - accuracy: 1.0000 - auc: 1.0000 - precision: 1.0000 - recall: 1.0000 - val_loss: 0.0316 - val_accuracy: 0.9938 - val_auc: 0.9988 - val_precision: 0.9940 - val_recall: 0.9938\n",
      "Epoch 4/4\n",
      "469/469 [==============================] - 10s 20ms/step - loss: 2.8312e-04 - accuracy: 0.9999 - auc: 1.0000 - precision: 0.9999 - recall: 0.9999 - val_loss: 0.0328 - val_accuracy: 0.9936 - val_auc: 0.9987 - val_precision: 0.9940 - val_recall: 0.9936\n"
     ]
    }
   ],
   "source": [
    "history = model.fit(x_train, y_train,\n",
    "          batch_size=batch_size,\n",
    "          epochs=epochs,\n",
    "          verbose=1,  # 1=Show a progress bar\n",
    "          validation_data=(x_test, y_test),\n",
    "          callbacks=[tb_log])"
   ]
  },
  {
   "cell_type": "code",
   "execution_count": 32,
   "metadata": {},
   "outputs": [
    {
     "name": "stdout",
     "output_type": "stream",
     "text": [
      "313/313 [==============================] - 5s 8ms/step - loss: 0.0269 - accuracy: 0.9935 - auc: 0.9992 - precision: 0.9940 - recall: 0.9933\n",
      "Test loss: 0.026894638314843178\n",
      "Test accuracy: 0.9934999942779541\n",
      "Test AUC: 0.9991522431373596\n",
      "Test Precision: 0.9939957857131958\n",
      "Test Recall: 0.9933000206947327\n"
     ]
    }
   ],
   "source": [
    "score = model.evaluate(x_test, y_test, verbose=1)\n",
    "print('Test loss:', score[0])\n",
    "print('Test accuracy:', score[1])\n",
    "print('Test AUC:', score[2])\n",
    "print('Test Precision:', score[3])\n",
    "print('Test Recall:', score[4])"
   ]
  },
  {
   "cell_type": "code",
   "execution_count": 33,
   "metadata": {},
   "outputs": [],
   "source": [
    "import matplotlib.pyplot as plt\n",
    "%matplotlib inline"
   ]
  },
  {
   "cell_type": "markdown",
   "metadata": {},
   "source": [
    "# Loss curves\n",
    "\n",
    "It's always a good idea to look at the loss curves. They can tell you if your model is indeed \"learning\" and can point out when it over-fits the training set. TensorBoard is the better way to monitor this, but it can be done also manually with matplotlib."
   ]
  },
  {
   "cell_type": "code",
   "execution_count": 34,
   "metadata": {},
   "outputs": [
    {
     "data": {
      "image/png": "[encoded data removed]",
      "text/plain": [
       "<Figure size 432x288 with 1 Axes>"
      ]
     },
     "metadata": {
      "needs_background": "light"
     },
     "output_type": "display_data"
    }
   ],
   "source": [
    "plt.plot(range(1,epochs+1),history.history['loss'], '.-',\n",
    "         range(1,epochs+1),history.history['val_loss'], '.-');\n",
    "plt.legend(['training loss', 'testing loss'])\n",
    "plt.title('Loss curve');\n",
    "plt.xlabel('Epoch');\n",
    "plt.ylabel('Loss');"
   ]
  },
  {
   "cell_type": "markdown",
   "metadata": {},
   "source": [
    "# Predictions\n",
    "\n",
    "Now let's use the model to predict the test set images."
   ]
  },
  {
   "cell_type": "code",
   "execution_count": 35,
   "metadata": {},
   "outputs": [
    {
     "name": "stdout",
     "output_type": "stream",
     "text": [
      "[7 2 1 ... 4 5 6]\n"
     ]
    }
   ],
   "source": [
    "all_predictions = model.predict(x_test).argmax(axis=1)\n",
    "print(all_predictions)"
   ]
  },
  {
   "cell_type": "code",
   "execution_count": 36,
   "metadata": {},
   "outputs": [],
   "source": [
    "import numpy as np"
   ]
  },
  {
   "cell_type": "code",
   "execution_count": 37,
   "metadata": {},
   "outputs": [
    {
     "data": {
      "image/png": "[encoded data removed]",
      "text/plain": [
       "<Figure size 720x1152 with 8 Axes>"
      ]
     },
     "metadata": {
      "needs_background": "light"
     },
     "output_type": "display_data"
    }
   ],
   "source": [
    "samples = [4, 83, 298, 1045, 3751, 5555, 7112, 8953] # Just print out some random examples from the test set\n",
    "\n",
    "plt.subplots(len(samples)//2, 2, figsize=(10, 16))\n",
    "\n",
    "for i, n in enumerate(samples):\n",
    "\n",
    "    img = np.expand_dims(x_test[n, :, :, :], 0) # Numpy collapses the singleton dimension\n",
    "\n",
    "    plt.subplot(len(samples)//2, 2, i+1)\n",
    "    plt.imshow(img.squeeze(), cmap='gray');\n",
    "    plt.axis('off')\n",
    "\n",
    "    label = y_test[n].argmax()   \n",
    "    predicted_label = model.predict(img).argmax()   # Predict for just one image\n",
    "\n",
    "    plt.title('Actual = {}, Predicted = {}'.format(label, predicted_label), fontsize=14);"
   ]
  },
  {
   "cell_type": "code",
   "execution_count": null,
   "metadata": {
    "collapsed": true
   },
   "outputs": [],
   "source": []
  }
 ],
 "metadata": {
  "kernelspec": {
   "display_name": "Python 3",
   "language": "python",
   "name": "python3"
  },
  "language_info": {
   "codemirror_mode": {
    "name": "ipython",
    "version": 3
   },
   "file_extension": ".py",
   "mimetype": "text/x-python",
   "name": "python",
   "nbconvert_exporter": "python",
   "pygments_lexer": "ipython3",
   "version": "3.8.10"
  }
 },
 "nbformat": 4,
 "nbformat_minor": 2
}
